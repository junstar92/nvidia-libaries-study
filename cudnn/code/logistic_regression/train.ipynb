{
    "cells": [
     {
      "cell_type": "code",
      "execution_count": 1,
      "id": "12a51835",
      "metadata": {},
      "outputs": [],
      "source": [
       "import torch\n",
       "import torchvision\n",
       "import sys\n",
       "import matplotlib.pyplot as plt\n",
       "\n",
       "LEARNING_RATE = 0.001\n",
       "EPOCHS = 10\n",
       "BATCH_SIZE = 128"
      ]
     },
     {
      "cell_type": "code",
      "execution_count": 2,
      "id": "aacf3464",
      "metadata": {},
      "outputs": [
       {
        "name": "stdout",
        "output_type": "stream",
        "text": [
         "device: cuda\n"
        ]
       }
      ],
      "source": [
       "device = 'cuda' if torch.cuda.is_available() else 'cpu'\n",
       "print(f'device: {device}')"
      ]
     },
     {
      "cell_type": "code",
      "execution_count": 3,
      "id": "91e7f23d",
      "metadata": {},
      "outputs": [],
      "source": [
       "train_dataset = torchvision.datasets.MNIST('./', train=True, download=True)\n",
       "test_dataset = torchvision.datasets.MNIST('./', train=False)"
      ]
     },
     {
      "cell_type": "code",
      "execution_count": 4,
      "id": "6d61be7b",
      "metadata": {},
      "outputs": [
       {
        "name": "stdout",
        "output_type": "stream",
        "text": [
         "x_train_orig shape:  torch.Size([12665, 28, 28])\n",
         "y_train_orig shape:  torch.Size([12665])\n",
         "x_test_orig shape:  torch.Size([2115, 28, 28])\n",
         "y_test_orig shape:  torch.Size([2115])\n"
        ]
       }
      ],
      "source": [
       "x_train_orig = train_dataset.train_data\n",
       "y_train_orig = train_dataset.train_labels\n",
       "x_test_orig = test_dataset.test_data\n",
       "y_test_orig = test_dataset.test_labels\n",
       "\n",
       "# use data with digit 0 or 1\n",
       "x_train_orig = x_train_orig[(y_train_orig == 0) | (y_train_orig == 1)]\n",
       "y_train_orig = y_train_orig[(y_train_orig == 0) | (y_train_orig == 1)]\n",
       "x_test_orig = x_test_orig[(y_test_orig == 0) | (y_test_orig == 1)]\n",
       "y_test_orig = y_test_orig[(y_test_orig == 0) | (y_test_orig == 1)]\n",
       "\n",
       "print('x_train_orig shape: ', x_train_orig.shape)\n",
       "print('y_train_orig shape: ', y_train_orig.shape)\n",
       "print('x_test_orig shape: ', x_test_orig.shape)\n",
       "print('y_test_orig shape: ', y_test_orig.shape)"
      ]
     },
     {
      "cell_type": "code",
      "execution_count": 5,
      "id": "8a9f0101",
      "metadata": {
       "scrolled": true
      },
      "outputs": [
       {
        "name": "stdout",
        "output_type": "stream",
        "text": [
         "x_train shape :  torch.Size([10000, 784])\n",
         "y_train shape :  torch.Size([10000, 1])\n",
         "x_train shape :  torch.Size([2665, 784])\n",
         "y_train shape :  torch.Size([2665, 1])\n",
         "x_test  shape :  torch.Size([2115, 784])\n",
         "y_test  shape :  torch.Size([2115, 1])\n"
        ]
       }
      ],
      "source": [
       "x_train = (x_train_orig[:10000] / 255.).view(-1, 28 * 28).to(device=device)\n",
       "y_train = y_train_orig[:10000].view(-1, 1).to(dtype=torch.float32, device=device)\n",
       "x_val = (x_train_orig[10000:] / 255.).view(-1, 28 * 28).to(device=device)\n",
       "y_val = y_train_orig[10000:].view(-1, 1).to(dtype=torch.float32, device=device)\n",
       "x_test = (x_test_orig / 255.).view(-1, 28 * 28).to(device=device)\n",
       "y_test = y_test_orig.view(-1, 1).to(dtype=torch.float32, device=device)\n",
       "\n",
       "print('x_train shape : ', x_train.shape)\n",
       "print('y_train shape : ', y_train.shape)\n",
       "print('x_train shape : ', x_val.shape)\n",
       "print('y_train shape : ', y_val.shape)\n",
       "print('x_test  shape : ', x_test.shape)\n",
       "print('y_test  shape : ', y_test.shape)"
      ]
     },
     {
      "cell_type": "code",
      "execution_count": 6,
      "id": "5fad93ab",
      "metadata": {},
      "outputs": [],
      "source": [
       "training_set = torch.utils.data.TensorDataset(x_train, y_train)\n",
       "train_loader = torch.utils.data.DataLoader(training_set, batch_size=BATCH_SIZE, shuffle=True)"
      ]
     },
     {
      "cell_type": "code",
      "execution_count": 7,
      "id": "0ce2e39e",
      "metadata": {},
      "outputs": [],
      "source": [
       "class LogisticRegressor(torch.nn.Module):\n",
       "    def __init__(self):\n",
       "        super().__init__()\n",
       "        self.fc = torch.nn.Linear(784, 1)\n",
       "        self.sigmoid = torch.nn.Sigmoid()\n",
       "        \n",
       "    def forward(self, x):\n",
       "        z = self.fc(x)\n",
       "        y = self.sigmoid(z)\n",
       "        return y"
      ]
     },
     {
      "cell_type": "code",
      "execution_count": 8,
      "id": "88692307",
      "metadata": {},
      "outputs": [],
      "source": [
       "model = LogisticRegressor().to(device)\n",
       "criterion = torch.nn.BCELoss()\n",
       "optimizer = torch.optim.SGD(model.parameters(), lr=LEARNING_RATE)\n",
       "\n",
       "optimizer.zero_grad()"
      ]
     },
     {
      "cell_type": "code",
      "execution_count": 9,
      "id": "5a19d774",
      "metadata": {},
      "outputs": [
       {
        "name": "stdout",
        "output_type": "stream",
        "text": [
         "[Epoch:  1] Validation Loss: 0.496408 Validation Accuracy: 98.50 %\n",
         "[Epoch:  2] Validation Loss: 0.387748 Validation Accuracy: 99.55 %\n",
         "[Epoch:  3] Validation Loss: 0.317815 Validation Accuracy: 99.55 %\n",
         "[Epoch:  4] Validation Loss: 0.268967 Validation Accuracy: 99.59 %\n",
         "[Epoch:  5] Validation Loss: 0.233185 Validation Accuracy: 99.59 %\n",
         "[Epoch:  6] Validation Loss: 0.205959 Validation Accuracy: 99.55 %\n",
         "[Epoch:  7] Validation Loss: 0.184590 Validation Accuracy: 99.59 %\n",
         "[Epoch:  8] Validation Loss: 0.167413 Validation Accuracy: 99.62 %\n",
         "[Epoch:  9] Validation Loss: 0.153329 Validation Accuracy: 99.62 %\n",
         "[Epoch: 10] Validation Loss: 0.141560 Validation Accuracy: 99.66 %\n"
        ]
       }
      ],
      "source": [
       "for epoch in range(EPOCHS):\n",
       "    total_loss = 0\n",
       "    \n",
       "    for xs, ys in train_loader:\n",
       "        pred = model(xs)\n",
       "        loss = criterion(pred, ys)\n",
       "        \n",
       "        loss.backward()\n",
       "        optimizer.step()\n",
       "        optimizer.zero_grad()\n",
       "        \n",
       "        total_loss += loss.item()\n",
       "    \n",
       "    with torch.no_grad():\n",
       "        pred = model(x_val)\n",
       "        accuracy = (pred >= 0.5).eq(y_val.data).sum() / len(x_val) * 100\n",
       "        loss = criterion(pred, y_val)\n",
       "    \n",
       "    print(f'[Epoch: {epoch+1:>2}] Validation Loss: {loss:>.6f} Validation Accuracy: {accuracy:>.2f} %')"
      ]
     },
     {
      "cell_type": "code",
      "execution_count": 10,
      "id": "3d770afc",
      "metadata": {
       "scrolled": true
      },
      "outputs": [
       {
        "name": "stdout",
        "output_type": "stream",
        "text": [
         "Test Accuracy: 99.76 %\n"
        ]
       }
      ],
      "source": [
       "with torch.no_grad():\n",
       "    y_pred = model(x_test)\n",
       "    accuracy = (y_pred >= 0.5).eq(y_test.data).sum() / len(x_test) * 100\n",
       "    print(f'Test Accuracy: {accuracy:>.2f} %')"
      ]
     },
     {
      "cell_type": "code",
      "execution_count": 11,
      "id": "7657a5d3",
      "metadata": {},
      "outputs": [
       {
        "data": {
         "image/png": "[encoded data removed]",
         "text/plain": [
          "<Figure size 640x480 with 1 Axes>"
         ]
        },
        "metadata": {},
        "output_type": "display_data"
       },
       {
        "name": "stdout",
        "output_type": "stream",
        "text": [
         "label:  1 (0.842)\n"
        ]
       },
       {
        "data": {
         "image/png": "[encoded data removed]",
         "text/plain": [
          "<Figure size 640x480 with 1 Axes>"
         ]
        },
        "metadata": {},
        "output_type": "display_data"
       },
       {
        "name": "stdout",
        "output_type": "stream",
        "text": [
         "label:  0 (0.065)\n"
        ]
       }
      ],
      "source": [
       "# display result\n",
       "\n",
       "x = x_test[0]\n",
       "y = y_test[0]\n",
       "\n",
       "y_pred = model(x).to('cpu')\n",
       "\n",
       "plt.imshow(x.to('cpu').view(28,28))\n",
       "plt.show()\n",
       "print(\"label: \", 1 if (y_pred >= 0.5) == True else 0, f'({y_pred[0]:.3f})')\n",
       "\n",
       "x = x_test[1]\n",
       "y = y_test[1]\n",
       "\n",
       "y_pred = model(x).to('cpu')\n",
       "\n",
       "plt.imshow(x.to('cpu').view(28,28))\n",
       "plt.show()\n",
       "print(\"label: \", 1 if (y_pred >= 0.5) == True else 0, f'({y_pred[0]:.3f})')"
      ]
     },
     {
      "cell_type": "code",
      "execution_count": 12,
      "id": "2f50d5a2",
      "metadata": {},
      "outputs": [],
      "source": [
       "# extract weight and bias to binary file\n",
       "parameters = model.parameters()\n",
       "\n",
       "weight = next(parameters).to('cpu').detach().numpy()\n",
       "with open('weight.bin', 'wb') as f:\n",
       "    f.write(weight.tobytes())\n",
       "\n",
       "bias = next(parameters).to('cpu').detach().numpy()\n",
       "with open('bias.bin', 'wb') as f:\n",
       "    f.write(bias.tobytes())"
      ]
     },
     {
      "cell_type": "code",
      "execution_count": 13,
      "id": "49bd83bd",
      "metadata": {},
      "outputs": [],
      "source": [
       "x = x_test[0].to('cpu').detach().numpy()\n",
       "with open('1.bin', 'wb') as f:\n",
       "    f.write(x.tobytes())\n",
       "\n",
       "x = x_test[1].to('cpu').detach().numpy()\n",
       "with open('0.bin', 'wb') as f:\n",
       "    f.write(x.tobytes())"
      ]
     },
     {
      "cell_type": "code",
      "execution_count": null,
      "id": "de4ac861",
      "metadata": {},
      "outputs": [],
      "source": []
     }
    ],
    "metadata": {
     "kernelspec": {
      "display_name": "Python 3 (ipykernel)",
      "language": "python",
      "name": "python3"
     },
     "language_info": {
      "codemirror_mode": {
       "name": "ipython",
       "version": 3
      },
      "file_extension": ".py",
      "mimetype": "text/x-python",
      "name": "python",
      "nbconvert_exporter": "python",
      "pygments_lexer": "ipython3",
      "version": "3.9.13"
     }
    },
    "nbformat": 4,
    "nbformat_minor": 5
   }
   
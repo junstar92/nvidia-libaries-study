{
 "cells": [
  {
   "cell_type": "code",
   "execution_count": 2,
   "id": "de879521",
   "metadata": {},
   "outputs": [],
   "source": [
    "import torch\n",
    "import torchvision\n",
    "from torchsummary import summary\n",
    "import numpy as np\n",
    "import os\n",
    "import matplotlib.pyplot as plt\n",
    "\n",
    "LEARNING_RATE = 0.001\n",
    "EPOCHS = 10\n",
    "BATCH_SIZE = 128"
   ]
  },
  {
   "cell_type": "code",
   "execution_count": 3,
   "id": "cddd5ead",
   "metadata": {},
   "outputs": [
    {
     "name": "stdout",
     "output_type": "stream",
     "text": [
      "device: cuda\n"
     ]
    }
   ],
   "source": [
    "device = 'cuda' if torch.cuda.is_available() else 'cpu'\n",
    "print(f'device: {device}')"
   ]
  },
  {
   "cell_type": "code",
   "execution_count": 4,
   "id": "d4586045",
   "metadata": {},
   "outputs": [],
   "source": [
    "train_dataset = torchvision.datasets.MNIST('./', train=True, download=True)\n",
    "test_dataset = torchvision.datasets.MNIST('./', train=False)"
   ]
  },
  {
   "cell_type": "code",
   "execution_count": 5,
   "id": "041473f2",
   "metadata": {},
   "outputs": [
    {
     "name": "stdout",
     "output_type": "stream",
     "text": [
      "x_train_orig shape:  torch.Size([60000, 28, 28])\n",
      "y_train_orig shape:  torch.Size([60000])\n",
      "x_test_orig shape:  torch.Size([10000, 28, 28])\n",
      "y_test_orig shape:  torch.Size([10000])\n"
     ]
    },
    {
     "name": "stderr",
     "output_type": "stream",
     "text": [
      "/home/changjun/anaconda3/lib/python3.10/site-packages/torchvision/datasets/mnist.py:75: UserWarning: train_data has been renamed data\n",
      "  warnings.warn(\"train_data has been renamed data\")\n",
      "/home/changjun/anaconda3/lib/python3.10/site-packages/torchvision/datasets/mnist.py:65: UserWarning: train_labels has been renamed targets\n",
      "  warnings.warn(\"train_labels has been renamed targets\")\n",
      "/home/changjun/anaconda3/lib/python3.10/site-packages/torchvision/datasets/mnist.py:80: UserWarning: test_data has been renamed data\n",
      "  warnings.warn(\"test_data has been renamed data\")\n",
      "/home/changjun/anaconda3/lib/python3.10/site-packages/torchvision/datasets/mnist.py:70: UserWarning: test_labels has been renamed targets\n",
      "  warnings.warn(\"test_labels has been renamed targets\")\n"
     ]
    }
   ],
   "source": [
    "x_train_orig = train_dataset.train_data\n",
    "y_train_orig = train_dataset.train_labels\n",
    "x_test_orig = test_dataset.test_data\n",
    "y_test_orig = test_dataset.test_labels\n",
    "\n",
    "print('x_train_orig shape: ', x_train_orig.shape)\n",
    "print('y_train_orig shape: ', y_train_orig.shape)\n",
    "print('x_test_orig shape: ', x_test_orig.shape)\n",
    "print('y_test_orig shape: ', y_test_orig.shape)"
   ]
  },
  {
   "cell_type": "code",
   "execution_count": 6,
   "id": "6d4d2277",
   "metadata": {},
   "outputs": [
    {
     "name": "stdout",
     "output_type": "stream",
     "text": [
      "x_train shape :  torch.Size([50000, 1, 28, 28])\n",
      "y_train shape :  torch.Size([50000])\n",
      "x_train shape :  torch.Size([10000, 1, 28, 28])\n",
      "y_train shape :  torch.Size([10000])\n",
      "x_test  shape :  torch.Size([10000, 1, 28, 28])\n",
      "y_test  shape :  torch.Size([10000])\n"
     ]
    }
   ],
   "source": [
    "x_train = (x_train_orig[10000:] / 255.).view(-1, 1, 28, 28).to(device=device)\n",
    "y_train = y_train_orig[10000:].to(device=device)\n",
    "x_val = (x_train_orig[:10000] / 255.).view(-1, 1, 28, 28).to(device=device)\n",
    "y_val = y_train_orig[:10000].to(device=device)\n",
    "x_test = (x_test_orig / 255.).view(-1, 1, 28, 28).to(device=device)\n",
    "y_test = y_test_orig.to(device=device)\n",
    "\n",
    "print('x_train shape : ', x_train.shape)\n",
    "print('y_train shape : ', y_train.shape)\n",
    "print('x_train shape : ', x_val.shape)\n",
    "print('y_train shape : ', y_val.shape)\n",
    "print('x_test  shape : ', x_test.shape)\n",
    "print('y_test  shape : ', y_test.shape)"
   ]
  },
  {
   "cell_type": "code",
   "execution_count": 7,
   "id": "f5655c98",
   "metadata": {},
   "outputs": [],
   "source": [
    "training_set = torch.utils.data.TensorDataset(x_train, y_train)\n",
    "train_loader = torch.utils.data.DataLoader(training_set, batch_size=BATCH_SIZE, shuffle=True)"
   ]
  },
  {
   "cell_type": "code",
   "execution_count": 8,
   "id": "32d22cc1",
   "metadata": {},
   "outputs": [],
   "source": [
    "class MnistCNN(torch.nn.Module):\n",
    "    def __init__(self):\n",
    "        super().__init__()\n",
    "        self.conv1 = torch.nn.Conv2d(1, 32, 3, 1, 1)\n",
    "        self.conv2 = torch.nn.Conv2d(32, 64, 3, 1, 1)\n",
    "        self.fc = torch.nn.Linear(7 * 7 * 64, 10)\n",
    "        \n",
    "    def forward(self, x):\n",
    "        x = self.conv1(x)\n",
    "        x = torch.nn.functional.relu(x)\n",
    "        x = torch.nn.functional.max_pool2d(x, 2)\n",
    "        x = self.conv2(x)\n",
    "        x = torch.nn.functional.relu(x)\n",
    "        x = torch.nn.functional.max_pool2d(x, 2)\n",
    "        x = torch.nn.Flatten()(x)\n",
    "        x = self.fc(x)\n",
    "        return x"
   ]
  },
  {
   "cell_type": "code",
   "execution_count": 9,
   "id": "66706476",
   "metadata": {},
   "outputs": [],
   "source": [
    "model = MnistCNN().to(device)\n",
    "criterion = torch.nn.CrossEntropyLoss().to(device)\n",
    "optimizer = torch.optim.RMSprop(model.parameters(), lr=LEARNING_RATE)\n",
    "\n",
    "optimizer.zero_grad()"
   ]
  },
  {
   "cell_type": "code",
   "execution_count": 10,
   "id": "19ceda34",
   "metadata": {},
   "outputs": [
    {
     "name": "stdout",
     "output_type": "stream",
     "text": [
      "[Epoch:  1] Validation Loss: 0.090684 Validation Accuracy: 97.23 %\n",
      "[Epoch:  2] Validation Loss: 0.068558 Validation Accuracy: 97.98 %\n",
      "[Epoch:  3] Validation Loss: 0.057894 Validation Accuracy: 98.23 %\n",
      "[Epoch:  4] Validation Loss: 0.064758 Validation Accuracy: 98.08 %\n",
      "[Epoch:  5] Validation Loss: 0.046165 Validation Accuracy: 98.72 %\n",
      "[Epoch:  6] Validation Loss: 0.051907 Validation Accuracy: 98.59 %\n",
      "[Epoch:  7] Validation Loss: 0.047951 Validation Accuracy: 98.56 %\n",
      "[Epoch:  8] Validation Loss: 0.066493 Validation Accuracy: 98.14 %\n",
      "[Epoch:  9] Validation Loss: 0.045804 Validation Accuracy: 98.74 %\n",
      "[Epoch: 10] Validation Loss: 0.044120 Validation Accuracy: 98.85 %\n"
     ]
    }
   ],
   "source": [
    "for epoch in range(EPOCHS):\n",
    "    total_loss = 0\n",
    "    \n",
    "    for xs, ys in train_loader:\n",
    "        pred = model(xs)\n",
    "        loss = criterion(pred, ys)\n",
    "        \n",
    "        loss.backward()\n",
    "        optimizer.step()\n",
    "        optimizer.zero_grad()\n",
    "        \n",
    "        total_loss += loss.item()\n",
    "    \n",
    "    with torch.no_grad():\n",
    "        pred = model(x_val)\n",
    "        accuracy = pred.data.max(1)[1].eq(y_val.data).sum() / len(x_val) * 100\n",
    "        loss = criterion(pred, y_val)\n",
    "    \n",
    "    print(f'[Epoch: {epoch+1:>2}] Validation Loss: {loss:>.6f} Validation Accuracy: {accuracy:>.2f} %')"
   ]
  },
  {
   "cell_type": "code",
   "execution_count": 11,
   "id": "964ebdb3",
   "metadata": {},
   "outputs": [
    {
     "name": "stdout",
     "output_type": "stream",
     "text": [
      "98.97 %\n"
     ]
    }
   ],
   "source": [
    "with torch.no_grad():\n",
    "    y_pred = model(x_test)\n",
    "    accuracy = y_pred.data.max(1)[1].eq(y_test.data).sum() / len(x_test) * 100\n",
    "    print(f'{accuracy:>.2f} %')"
   ]
  },
  {
   "cell_type": "code",
   "execution_count": 12,
   "id": "0cda2c45",
   "metadata": {},
   "outputs": [
    {
     "data": {
      "image/png": "[encoded data removed]",
      "text/plain": [
       "<Figure size 640x480 with 1 Axes>"
      ]
     },
     "metadata": {},
     "output_type": "display_data"
    },
    {
     "name": "stdout",
     "output_type": "stream",
     "text": [
      "label: 7 (0.9999986886978149)\n"
     ]
    },
    {
     "data": {
      "image/png": "[encoded data removed]",
      "text/plain": [
       "<Figure size 640x480 with 1 Axes>"
      ]
     },
     "metadata": {},
     "output_type": "display_data"
    },
    {
     "name": "stdout",
     "output_type": "stream",
     "text": [
      "label: 2 (1.0)\n"
     ]
    }
   ],
   "source": [
    "# display result\n",
    "\n",
    "x = x_test[0].reshape(-1, 1, 28, 28)\n",
    "y = y_test[0]\n",
    "\n",
    "y_pred = model(x).to('cpu')\n",
    "\n",
    "plt.imshow(x.to('cpu').view(28,28))\n",
    "plt.show()\n",
    "label = y_pred.max(1)[1].item()\n",
    "print(f\"label: {label} ({torch.nn.functional.softmax(y_pred[0], dim=0)[label]})\")\n",
    "\n",
    "x = x_test[1].reshape(-1, 1, 28, 28)\n",
    "y = y_test[1]\n",
    "\n",
    "y_pred = model(x).to('cpu')\n",
    "\n",
    "plt.imshow(x.to('cpu').view(28,28))\n",
    "plt.show()\n",
    "label = y_pred.max(1)[1].item()\n",
    "print(f\"label: {label} ({torch.nn.functional.softmax(y_pred[0], dim=0)[label]})\")"
   ]
  },
  {
   "cell_type": "code",
   "execution_count": 13,
   "id": "6e24ecaa",
   "metadata": {},
   "outputs": [],
   "source": [
    "os.makedirs('params', exist_ok=True)\n",
    "\n",
    "# extract weight and bias to binary file\n",
    "parameters = model.parameters()\n",
    "\n",
    "conv1_weight = next(parameters).to('cpu').detach().numpy()\n",
    "with open('params/conv1_weight.bin', 'wb') as f:\n",
    "    f.write(conv1_weight.tobytes())\n",
    "    \n",
    "conv1_bias = next(parameters).to('cpu').detach().numpy()\n",
    "with open('params/conv1_bias.bin', 'wb') as f:\n",
    "    f.write(conv1_bias.tobytes())\n",
    "\n",
    "conv2_weight = next(parameters).to('cpu').detach().numpy()\n",
    "with open('params/conv2_weight.bin', 'wb') as f:\n",
    "    f.write(conv2_weight.tobytes())\n",
    "\n",
    "conv2_bias = next(parameters).to('cpu').detach().numpy()\n",
    "with open('params/conv2_bias.bin', 'wb') as f:\n",
    "    f.write(conv2_bias.tobytes())\n",
    "\n",
    "fc_weight = next(parameters).to('cpu').detach().numpy()\n",
    "with open('params/fc_weight.bin', 'wb') as f:\n",
    "    f.write(fc_weight.tobytes())\n",
    "    \n",
    "fc_bias = next(parameters).to('cpu').detach().numpy()\n",
    "with open('params/fc_bias.bin', 'wb') as f:\n",
    "    f.write(fc_bias.tobytes())"
   ]
  },
  {
   "cell_type": "code",
   "execution_count": 14,
   "id": "25230cd4",
   "metadata": {},
   "outputs": [],
   "source": [
    "os.makedirs('digits', exist_ok=True)\n",
    "\n",
    "for i in range(10):\n",
    "    idx = np.argwhere(y_test.to('cpu').numpy() == i)[0].item()\n",
    "    x = x_test[idx].to('cpu').detach().numpy()\n",
    "    with open(f'digits/{i}.bin', 'wb') as f:\n",
    "        f.write(x.tobytes())"
   ]
  },
  {
   "cell_type": "code",
   "execution_count": 15,
   "id": "095cd72f",
   "metadata": {},
   "outputs": [
    {
     "name": "stdout",
     "output_type": "stream",
     "text": [
      "2.0.1+cu118\n"
     ]
    }
   ],
   "source": [
    "print(torch.__version__)"
   ]
  },
  {
   "cell_type": "code",
   "execution_count": 18,
   "id": "b9a5b9f7",
   "metadata": {},
   "outputs": [
    {
     "name": "stdout",
     "output_type": "stream",
     "text": [
      "Exported graph: graph(%input : Float(*, 1, 28, 28, strides=[784, 784, 28, 1], requires_grad=0, device=cuda:0),\n",
      "      %conv1.weight : Float(32, 1, 3, 3, strides=[9, 9, 3, 1], requires_grad=1, device=cuda:0),\n",
      "      %conv1.bias : Float(32, strides=[1], requires_grad=1, device=cuda:0),\n",
      "      %conv2.weight : Float(64, 32, 3, 3, strides=[288, 9, 3, 1], requires_grad=1, device=cuda:0),\n",
      "      %conv2.bias : Float(64, strides=[1], requires_grad=1, device=cuda:0),\n",
      "      %fc.weight : Float(10, 3136, strides=[3136, 1], requires_grad=1, device=cuda:0),\n",
      "      %fc.bias : Float(10, strides=[1], requires_grad=1, device=cuda:0)):\n",
      "  %/conv1/Conv_output_0 : Float(*, 32, 28, 28, strides=[25088, 784, 28, 1], requires_grad=0, device=cuda:0) = onnx::Conv[dilations=[1, 1], group=1, kernel_shape=[3, 3], pads=[1, 1, 1, 1], strides=[1, 1], onnx_name=\"/conv1/Conv\"](%input, %conv1.weight, %conv1.bias), scope: __main__.MnistCNN::/torch.nn.modules.conv.Conv2d::conv1 # /home/changjun/anaconda3/lib/python3.10/site-packa============= Diagnostic Run torch.onnx.export version 2.0.1+cu118 =============\n",
      "verbose: False, log level: Level.ERROR\n",
      "======================= 0 NONE 0 NOTE 0 WARNING 0 ERROR ========================\n",
      "\n",
      "ges/torch/nn/modules/conv.py:459:0\n",
      "  %/Relu_output_0 : Float(*, 32, 28, 28, strides=[25088, 784, 28, 1], requires_grad=1, device=cuda:0) = onnx::Relu[onnx_name=\"/Relu\"](%/conv1/Conv_output_0), scope: __main__.MnistCNN:: # /home/changjun/anaconda3/lib/python3.10/site-packages/torch/nn/functional.py:1457:0\n",
      "  %/MaxPool_output_0 : Float(*, 32, 14, 14, strides=[6272, 196, 14, 1], requires_grad=1, device=cuda:0) = onnx::MaxPool[ceil_mode=0, kernel_shape=[2, 2], pads=[0, 0, 0, 0], strides=[2, 2], onnx_name=\"/MaxPool\"](%/Relu_output_0), scope: __main__.MnistCNN:: # /home/changjun/anaconda3/lib/python3.10/site-packages/torch/nn/functional.py:782:0\n",
      "  %/conv2/Conv_output_0 : Float(*, 64, 14, 14, strides=[12544, 196, 14, 1], requires_grad=0, device=cuda:0) = onnx::Conv[dilations=[1, 1], group=1, kernel_shape=[3, 3], pads=[1, 1, 1, 1], strides=[1, 1], onnx_name=\"/conv2/Conv\"](%/MaxPool_output_0, %conv2.weight, %conv2.bias), scope: __main__.MnistCNN::/torch.nn.modules.conv.Conv2d::conv2 # /home/changjun/anaconda3/lib/python3.10/site-packages/torch/nn/modules/conv.py:459:0\n",
      "  %/Relu_1_output_0 : Float(*, 64, 14, 14, strides=[12544, 196, 14, 1], requires_grad=1, device=cuda:0) = onnx::Relu[onnx_name=\"/Relu_1\"](%/conv2/Conv_output_0), scope: __main__.MnistCNN:: # /home/changjun/anaconda3/lib/python3.10/site-packages/torch/nn/functional.py:1457:0\n",
      "  %/MaxPool_1_output_0 : Float(*, 64, 7, 7, strides=[3136, 49, 7, 1], requires_grad=1, device=cuda:0) = onnx::MaxPool[ceil_mode=0, kernel_shape=[2, 2], pads=[0, 0, 0, 0], strides=[2, 2], onnx_name=\"/MaxPool_1\"](%/Relu_1_output_0), scope: __main__.MnistCNN:: # /home/changjun/anaconda3/lib/python3.10/site-packages/torch/nn/functional.py:782:0\n",
      "  %/Flatten_output_0 : Float(*, 3136, strides=[3136, 1], requires_grad=1, device=cuda:0) = onnx::Flatten[axis=1, onnx_name=\"/Flatten\"](%/MaxPool_1_output_0), scope: __main__.MnistCNN:: # /home/changjun/anaconda3/lib/python3.10/site-packages/torch/nn/modules/flatten.py:46:0\n",
      "  %14 : Float(*, 10, strides=[10, 1], requires_grad=1, device=cuda:0) = onnx::Gemm[alpha=1., beta=1., transB=1, onnx_name=\"/fc/Gemm\"](%/Flatten_output_0, %fc.weight, %fc.bias), scope: __main__.MnistCNN::/torch.nn.modules.linear.Linear::fc # /home/changjun/anaconda3/lib/python3.10/site-packages/torch/nn/modules/linear.py:114:0\n",
      "  return (%14)\n",
      "\n"
     ]
    }
   ],
   "source": [
    "# Export ONNX\n",
    "dummy_input = torch.randn(1,1,28,28, device=device)\n",
    "torch.onnx.export(\n",
    "    model,\n",
    "    dummy_input,\n",
    "    \"mnist_cnn_dynamic.onnx\",\n",
    "    input_names=[\"input\"],\n",
    "    output_names=[\"output\"],\n",
    "    verbose=True,\n",
    "    dynamic_axes={\n",
    "        \"input\": [0]\n",
    "    })"
   ]
  },
  {
   "cell_type": "code",
   "execution_count": null,
   "id": "5ba710fa",
   "metadata": {},
   "outputs": [],
   "source": []
  }
 ],
 "metadata": {
  "kernelspec": {
   "display_name": "Python 3 (ipykernel)",
   "language": "python",
   "name": "python3"
  },
  "language_info": {
   "codemirror_mode": {
    "name": "ipython",
    "version": 3
   },
   "file_extension": ".py",
   "mimetype": "text/x-python",
   "name": "python",
   "nbconvert_exporter": "python",
   "pygments_lexer": "ipython3",
   "version": "3.10.11"
  }
 },
 "nbformat": 4,
 "nbformat_minor": 5
}
